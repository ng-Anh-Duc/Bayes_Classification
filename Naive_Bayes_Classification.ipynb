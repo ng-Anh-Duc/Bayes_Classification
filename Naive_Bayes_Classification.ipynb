{
  "nbformat": 4,
  "nbformat_minor": 0,
  "metadata": {
    "colab": {
      "provenance": []
    },
    "kernelspec": {
      "name": "python3",
      "display_name": "Python 3"
    },
    "language_info": {
      "name": "python"
    }
  },
  "cells": [
    {
      "cell_type": "code",
      "execution_count": 1,
      "metadata": {
        "colab": {
          "base_uri": "https://localhost:8080/"
        },
        "id": "enldwZSIbdOq",
        "outputId": "43cc03c0-acfd-4214-dd63-f1912ada1c34"
      },
      "outputs": [
        {
          "output_type": "stream",
          "name": "stdout",
          "text": [
            "[['Sunny' 'Hot' 'High' 'Weak' 'no']\n",
            " ['Sunny' 'Hot' 'High' 'Strong' 'no']\n",
            " ['Overcast' 'Hot' 'High' 'Weak' 'yes']\n",
            " ['Rain' 'Mild' 'High' 'Weak' 'yes']\n",
            " ['Rain' 'Cool' 'Normal' 'Weak' 'yes']\n",
            " ['Rain' 'Cool' 'Normal' 'Strong' 'no']\n",
            " ['Overcast' 'Cool' 'Normal' 'Strong' 'yes']\n",
            " ['Overcast' 'Mild' 'High' 'Weak' 'no']\n",
            " ['Sunny' 'Cool' 'Normal' 'Weak' 'yes']\n",
            " ['Rain' 'Mild' 'Normal' 'Weak' 'yes']]\n"
          ]
        }
      ],
      "source": [
        "import numpy as np\n",
        "def create_train_data():\n",
        "  data = [['Sunny', 'Hot', 'High', 'Weak', 'no'],\n",
        "          ['Sunny', 'Hot', 'High', 'Strong', 'no'],\n",
        "          ['Overcast', 'Hot', 'High', 'Weak', 'yes'],\n",
        "          ['Rain', 'Mild', 'High', 'Weak', 'yes'],\n",
        "          ['Rain', 'Cool', 'Normal', 'Weak', 'yes'],\n",
        "          ['Rain', 'Cool', 'Normal', 'Strong', 'no'],\n",
        "          ['Overcast', 'Cool', 'Normal', 'Strong', 'yes'],\n",
        "          ['Overcast', 'Mild', 'High', 'Weak', 'no'],\n",
        "          ['Sunny', 'Cool', 'Normal', 'Weak', 'yes'],\n",
        "          ['Rain', 'Mild', 'Normal', 'Weak', 'yes']]\n",
        "  data = np.array(data)\n",
        "  return data\n",
        "\n",
        "data = create_train_data()\n",
        "print(data)"
      ]
    },
    {
      "cell_type": "code",
      "source": [
        "def compute_base_probability(data):\n",
        "  return (len(np.where(data=='no')[0]) / len(data), len(np.where(data=='yes')[0]) / len(data))\n",
        "\n",
        "compute_base_probability(data[:,4])"
      ],
      "metadata": {
        "colab": {
          "base_uri": "https://localhost:8080/"
        },
        "id": "W7c9vjO9jrPx",
        "outputId": "4e3e0e1f-9140-453b-eb46-90f8f7999f63"
      },
      "execution_count": 29,
      "outputs": [
        {
          "output_type": "execute_result",
          "data": {
            "text/plain": [
              "(0.4, 0.6)"
            ]
          },
          "metadata": {},
          "execution_count": 29
        }
      ]
    },
    {
      "cell_type": "code",
      "source": [
        "#p(a|b)\n",
        "def compute_condition_probability(data, x, x_col_index):\n",
        "  # pno, pyes = compute_base_probability(data)\n",
        "  pno = len(np.where((data[:,4]=='no') & (data[:,x_col_index]==x))[0]) / len(np.where(data[:,4]=='no')[0])\n",
        "  pyes = len(np.where((data[:,4]=='yes') & (data[:,x_col_index]==x))[0]) / len(np.where(data[:,4]=='yes')[0])\n",
        "  return (pno, pyes)\n",
        "\n",
        "compute_condition_probability(data, 'Rain', 0)"
      ],
      "metadata": {
        "colab": {
          "base_uri": "https://localhost:8080/"
        },
        "id": "TZyCFIbfktAd",
        "outputId": "d5cb4dd2-c5e9-48f5-a2a2-914910f6ddb3"
      },
      "execution_count": 50,
      "outputs": [
        {
          "output_type": "execute_result",
          "data": {
            "text/plain": [
              "(0.25, 0.5)"
            ]
          },
          "metadata": {},
          "execution_count": 50
        }
      ]
    },
    {
      "cell_type": "code",
      "source": [
        "def bayes_classify(data, condition=['Overcast','Cool','High','Weak']):\n",
        "  pno = 1\n",
        "  pyes = 1\n",
        "  for i in range(len(condition)):\n",
        "    pnoi, pyesi = compute_condition_probability(data, condition[i], i)\n",
        "    pno *= pnoi\n",
        "    pyes *= pyesi\n",
        "  pno *= compute_base_probability(data)[0]\n",
        "  pyes *= compute_base_probability(data)[1]\n",
        "  return 'no' if pno > pyes else 'yes'\n",
        "\n",
        "bayes_classify(data)"
      ],
      "metadata": {
        "colab": {
          "base_uri": "https://localhost:8080/",
          "height": 35
        },
        "id": "F0nbBSEdKEYl",
        "outputId": "1e26a7d5-2748-40ef-9d57-a7d69f26fd72"
      },
      "execution_count": 52,
      "outputs": [
        {
          "output_type": "execute_result",
          "data": {
            "text/plain": [
              "'yes'"
            ],
            "application/vnd.google.colaboratory.intrinsic+json": {
              "type": "string"
            }
          },
          "metadata": {},
          "execution_count": 52
        }
      ]
    }
  ]
}